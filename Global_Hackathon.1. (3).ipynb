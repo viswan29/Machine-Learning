{
 "cells": [
  {
   "cell_type": "code",
   "execution_count": 149,
   "metadata": {},
   "outputs": [],
   "source": [
    "import pandas as pd\n",
    "import numpy as np\n",
    "import matplotlib.pyplot as plt\n",
    "import datetime\n",
    "import warnings\n",
    "warnings.filterwarnings('ignore')"
   ]
  },
  {
   "cell_type": "code",
   "execution_count": 150,
   "metadata": {},
   "outputs": [],
   "source": [
    "import os\n",
    "os.chdir('C:/Users/viswanath/Downloads')"
   ]
  },
  {
   "cell_type": "code",
   "execution_count": 309,
   "metadata": {},
   "outputs": [
    {
     "data": {
      "text/html": [
       "<div>\n",
       "<style scoped>\n",
       "    .dataframe tbody tr th:only-of-type {\n",
       "        vertical-align: middle;\n",
       "    }\n",
       "\n",
       "    .dataframe tbody tr th {\n",
       "        vertical-align: top;\n",
       "    }\n",
       "\n",
       "    .dataframe thead th {\n",
       "        text-align: right;\n",
       "    }\n",
       "</style>\n",
       "<table border=\"1\" class=\"dataframe\">\n",
       "  <thead>\n",
       "    <tr style=\"text-align: right;\">\n",
       "      <th></th>\n",
       "      <th>Current Designation</th>\n",
       "      <th>Total years of relevant work experience</th>\n",
       "      <th>Total # of projects worked outside Infosys</th>\n",
       "      <th>Total # of projects worked in Infosys</th>\n",
       "      <th>Technologies worked on with current project</th>\n",
       "      <th>Tools being used in current project</th>\n",
       "      <th>How engaging is current project role/opportunity?</th>\n",
       "      <th>What are your expectations with Project?</th>\n",
       "      <th>Select the courses applicable for you [Python/PHP]</th>\n",
       "      <th>Select the courses applicable for you [React.js/Angular.js]</th>\n",
       "      <th>...</th>\n",
       "      <th>Feedback for high scoring course [Artificial Intelligence]</th>\n",
       "      <th>Feedback for high scoring course [Devops]</th>\n",
       "      <th>Feedback for high scoring course [Scrum Master]</th>\n",
       "      <th>How is lex course helpful?</th>\n",
       "      <th>List of Lex courses interested in apart from ones mentioned above</th>\n",
       "      <th>Any certification/courses done outside Infosys in last 3 years?</th>\n",
       "      <th>If above answer is yes then list the certification/course separated by comma, else mention NA</th>\n",
       "      <th>Reason for taking the course outside</th>\n",
       "      <th>Do you want above certification/course added in lex?</th>\n",
       "      <th>Please take IQ quiz on - www.free-iqtest.net and mention the score below</th>\n",
       "    </tr>\n",
       "  </thead>\n",
       "  <tbody>\n",
       "    <tr>\n",
       "      <th>0</th>\n",
       "      <td>Technology Analyst</td>\n",
       "      <td>Above 8</td>\n",
       "      <td>0 - 2</td>\n",
       "      <td>2019-05-03 00:00:00</td>\n",
       "      <td>UNIX/LINUX, C, .NET</td>\n",
       "      <td>Service Now</td>\n",
       "      <td>3</td>\n",
       "      <td>Learn new and upcoming technology</td>\n",
       "      <td>Enrolled but not completed</td>\n",
       "      <td>Not applicable</td>\n",
       "      <td>...</td>\n",
       "      <td>Not Applicable</td>\n",
       "      <td>Not Applicable</td>\n",
       "      <td>Not Applicable</td>\n",
       "      <td>Personal development</td>\n",
       "      <td>Pega, Qlik sense</td>\n",
       "      <td>Yes</td>\n",
       "      <td>Pega CSA, Pega CSSA</td>\n",
       "      <td>Content is lex is not sufficient, Wanted to ge...</td>\n",
       "      <td>Yes</td>\n",
       "      <td>118</td>\n",
       "    </tr>\n",
       "    <tr>\n",
       "      <th>1</th>\n",
       "      <td>Technology Lead</td>\n",
       "      <td>Above 8</td>\n",
       "      <td>0 - 2</td>\n",
       "      <td>2019-05-03 00:00:00</td>\n",
       "      <td>UNIX/LINUX,C,DATABASE</td>\n",
       "      <td>Tableau,Alteryx,Power BI</td>\n",
       "      <td>3</td>\n",
       "      <td>Move to a different project</td>\n",
       "      <td>60% - 75%</td>\n",
       "      <td>Not applicable</td>\n",
       "      <td>...</td>\n",
       "      <td>Not Applicable</td>\n",
       "      <td>Engaging course</td>\n",
       "      <td>Not Applicable</td>\n",
       "      <td>Personal development</td>\n",
       "      <td>R,Machine Learning</td>\n",
       "      <td>No</td>\n",
       "      <td>NaN</td>\n",
       "      <td>Not Applicable</td>\n",
       "      <td>Not Applicable</td>\n",
       "      <td>85</td>\n",
       "    </tr>\n",
       "    <tr>\n",
       "      <th>2</th>\n",
       "      <td>TL</td>\n",
       "      <td>Above 8</td>\n",
       "      <td>More than 5</td>\n",
       "      <td>2019-05-03 00:00:00</td>\n",
       "      <td>MF, SERVICENOW</td>\n",
       "      <td>Servicenow</td>\n",
       "      <td>3</td>\n",
       "      <td>Learn new and upcoming technology</td>\n",
       "      <td>Enrolled but not completed</td>\n",
       "      <td>Not applicable</td>\n",
       "      <td>...</td>\n",
       "      <td>Not Applicable</td>\n",
       "      <td>Not Applicable</td>\n",
       "      <td>Not Applicable</td>\n",
       "      <td>None of the above</td>\n",
       "      <td>Servicenow</td>\n",
       "      <td>No</td>\n",
       "      <td>NaN</td>\n",
       "      <td>Not Applicable</td>\n",
       "      <td>Not Applicable</td>\n",
       "      <td>100</td>\n",
       "    </tr>\n",
       "  </tbody>\n",
       "</table>\n",
       "<p>3 rows × 36 columns</p>\n",
       "</div>"
      ],
      "text/plain": [
       "  Current Designation Total years of relevant work experience  \\\n",
       "0  Technology Analyst                                 Above 8   \n",
       "1     Technology Lead                                 Above 8   \n",
       "2                  TL                                 Above 8   \n",
       "\n",
       "  Total # of projects worked outside Infosys  \\\n",
       "0                                      0 - 2   \n",
       "1                                      0 - 2   \n",
       "2                                More than 5   \n",
       "\n",
       "  Total # of projects worked in Infosys  \\\n",
       "0                   2019-05-03 00:00:00   \n",
       "1                   2019-05-03 00:00:00   \n",
       "2                   2019-05-03 00:00:00   \n",
       "\n",
       "  Technologies worked on with current project  \\\n",
       "0                         UNIX/LINUX, C, .NET   \n",
       "1                       UNIX/LINUX,C,DATABASE   \n",
       "2                              MF, SERVICENOW   \n",
       "\n",
       "  Tools being used in current project  \\\n",
       "0                         Service Now   \n",
       "1            Tableau,Alteryx,Power BI   \n",
       "2                          Servicenow   \n",
       "\n",
       "   How engaging is current project role/opportunity?  \\\n",
       "0                                                  3   \n",
       "1                                                  3   \n",
       "2                                                  3   \n",
       "\n",
       "  What are your expectations with Project?  \\\n",
       "0        Learn new and upcoming technology   \n",
       "1              Move to a different project   \n",
       "2        Learn new and upcoming technology   \n",
       "\n",
       "  Select the courses applicable for you [Python/PHP]  \\\n",
       "0                         Enrolled but not completed   \n",
       "1                                          60% - 75%   \n",
       "2                         Enrolled but not completed   \n",
       "\n",
       "  Select the courses applicable for you [React.js/Angular.js]  \\\n",
       "0                                     Not applicable            \n",
       "1                                     Not applicable            \n",
       "2                                     Not applicable            \n",
       "\n",
       "                                    ...                                     \\\n",
       "0                                   ...                                      \n",
       "1                                   ...                                      \n",
       "2                                   ...                                      \n",
       "\n",
       "  Feedback for high scoring course [Artificial Intelligence]  \\\n",
       "0                                     Not Applicable           \n",
       "1                                     Not Applicable           \n",
       "2                                     Not Applicable           \n",
       "\n",
       "  Feedback for high scoring course [Devops]  \\\n",
       "0                            Not Applicable   \n",
       "1                           Engaging course   \n",
       "2                            Not Applicable   \n",
       "\n",
       "  Feedback for high scoring course [Scrum Master] How is lex course helpful?  \\\n",
       "0                                  Not Applicable       Personal development   \n",
       "1                                  Not Applicable       Personal development   \n",
       "2                                  Not Applicable          None of the above   \n",
       "\n",
       "  List of Lex courses interested in apart from ones mentioned above  \\\n",
       "0                                   Pega, Qlik sense                  \n",
       "1                                 R,Machine Learning                  \n",
       "2                                         Servicenow                  \n",
       "\n",
       "  Any certification/courses done outside Infosys in last 3 years?  \\\n",
       "0                                                Yes                \n",
       "1                                                 No                \n",
       "2                                                 No                \n",
       "\n",
       "  If above answer is yes then list the certification/course separated by comma, else mention NA  \\\n",
       "0                                Pega CSA, Pega CSSA                                              \n",
       "1                                                NaN                                              \n",
       "2                                                NaN                                              \n",
       "\n",
       "                Reason for taking the course outside  \\\n",
       "0  Content is lex is not sufficient, Wanted to ge...   \n",
       "1                                     Not Applicable   \n",
       "2                                     Not Applicable   \n",
       "\n",
       "  Do you want above certification/course added in lex?  \\\n",
       "0                                                Yes     \n",
       "1                                     Not Applicable     \n",
       "2                                     Not Applicable     \n",
       "\n",
       "  Please take IQ quiz on - www.free-iqtest.net and mention the score below  \n",
       "0                                                118                        \n",
       "1                                                 85                        \n",
       "2                                                100                        \n",
       "\n",
       "[3 rows x 36 columns]"
      ]
     },
     "execution_count": 309,
     "metadata": {},
     "output_type": "execute_result"
    }
   ],
   "source": [
    "emp_eng = pd.read_excel('Global Hackathon - 3(1).xlsx')\n",
    "emp_eng.head(3)"
   ]
  },
  {
   "cell_type": "code",
   "execution_count": 310,
   "metadata": {},
   "outputs": [],
   "source": [
    "#copy of dataset\n",
    "emp_eng_test = emp_eng.copy()"
   ]
  },
  {
   "cell_type": "code",
   "execution_count": 311,
   "metadata": {},
   "outputs": [],
   "source": [
    "emp_eng.drop(['Total # of projects worked outside Infosys','Total # of projects worked in Infosys',\n",
    "                        'Tools being used in current project'],axis=1,inplace=True)"
   ]
  },
  {
   "cell_type": "code",
   "execution_count": 312,
   "metadata": {},
   "outputs": [],
   "source": [
    "emp_eng['tech1'] = emp_eng['Technologies worked on with current project'].str.split(',',expand=True)[0]"
   ]
  },
  {
   "cell_type": "code",
   "execution_count": 313,
   "metadata": {},
   "outputs": [],
   "source": [
    "for i in range(0,len(emp_eng)):\n",
    "    if emp_eng['Total years of relevant work experience'][i] == datetime.datetime(2019, 8, 6, 0, 0):\n",
    "        emp_eng['Total years of relevant work experience'][i] = '6 - 8'\n",
    "    if emp_eng['Total years of relevant work experience'][i] == datetime.datetime(2019, 5, 3, 0, 0):\n",
    "        emp_eng['Total years of relevant work experience'][i]= '3 - 5'"
   ]
  },
  {
   "cell_type": "code",
   "execution_count": 314,
   "metadata": {},
   "outputs": [],
   "source": [
    "for i in range(0,len(emp_eng)):\n",
    "    if emp_eng['What are your expectations with Project?'][i] == 'Learn new and upcoming technology':\n",
    "        emp_eng['What are your expectations with Project?'][i] = 'New Technology'\n",
    "    if emp_eng['What are your expectations with Project?'][i] == 'Move to a different project':\n",
    "        emp_eng['What are your expectations with Project?'][i] = 'Different Project'\n",
    "    if emp_eng['What are your expectations with Project?'][i] == 'Enhance skills within current technology':\n",
    "        emp_eng['What are your expectations with Project?'][i] = 'Skill Enhancement'\n",
    "    if emp_eng['What are your expectations with Project?'][i] == 'Move to business analyst role':\n",
    "        emp_eng['What are your expectations with Project?'][i] = 'BA Role'\n",
    "    if emp_eng['What are your expectations with Project?'][i] == 'Move to project management domain':\n",
    "        emp_eng['What are your expectations with Project?'][i] = 'Management Role'"
   ]
  },
  {
   "cell_type": "code",
   "execution_count": 315,
   "metadata": {},
   "outputs": [],
   "source": [
    "for i in range(0,len(emp_eng)):\n",
    "    if emp_eng['Select the courses applicable for you [Python/PHP]'][i] == 'Not applicable':\n",
    "        emp_eng['Select the courses applicable for you [Python/PHP]'][i] = 'No'\n",
    "    else:\n",
    "        emp_eng['Select the courses applicable for you [Python/PHP]'][i] = 'Yes'\n",
    "        \n",
    "for i in range(0,len(emp_eng)):\n",
    "    if emp_eng['Select the courses applicable for you [React.js/Angular.js]'][i] == 'Not applicable':\n",
    "        emp_eng['Select the courses applicable for you [React.js/Angular.js]'][i] = 'No'\n",
    "    else:\n",
    "        emp_eng['Select the courses applicable for you [React.js/Angular.js]'][i] = 'Yes'\n",
    "        \n",
    "for i in range(0,len(emp_eng)):\n",
    "    if emp_eng['Select the courses applicable for you [DATABASE]'][i] == 'Not applicable':\n",
    "        emp_eng['Select the courses applicable for you [DATABASE]'][i] = 'No'\n",
    "    else:\n",
    "        emp_eng['Select the courses applicable for you [DATABASE]'][i] = 'Yes'\n",
    "        \n",
    "for i in range(0,len(emp_eng)):\n",
    "    if emp_eng['Select the courses applicable for you [Azure]'][i] == 'Not applicable':\n",
    "        emp_eng['Select the courses applicable for you [Azure]'][i] = 'No'\n",
    "    else:\n",
    "        emp_eng['Select the courses applicable for you [Azure]'][i] = 'Yes'\n",
    "        \n",
    "for i in range(0,len(emp_eng)):\n",
    "    if emp_eng['Select the courses applicable for you [Artificial Intelligence (AI)]'][i] == 'Not applicable':\n",
    "        emp_eng['Select the courses applicable for you [Artificial Intelligence (AI)]'][i] = 'No'\n",
    "    else:\n",
    "        emp_eng['Select the courses applicable for you [Artificial Intelligence (AI)]'][i] = 'Yes'\n",
    "        \n",
    "for i in range(0,len(emp_eng)):\n",
    "    if emp_eng['Select the courses applicable for you [Devops]'][i] == 'Not applicable':\n",
    "        emp_eng['Select the courses applicable for you [Devops]'][i] = 'No'\n",
    "    else:\n",
    "        emp_eng['Select the courses applicable for you [Devops]'][i] = 'Yes'\n",
    "\n",
    "for i in range(0,len(emp_eng)):\n",
    "    if emp_eng['Select the courses applicable for you [Scrum Master]'][i] == 'Not applicable':\n",
    "        emp_eng['Select the courses applicable for you [Scrum Master]'][i] = 'No'\n",
    "    else:\n",
    "        emp_eng['Select the courses applicable for you [Scrum Master]'][i] = 'Yes'\n",
    " "
   ]
  },
  {
   "cell_type": "code",
   "execution_count": 316,
   "metadata": {},
   "outputs": [
    {
     "data": {
      "text/plain": [
       "No     114\n",
       "Yes     31\n",
       "Name: Select the courses applicable for you [Artificial Intelligence (AI)], dtype: int64"
      ]
     },
     "execution_count": 316,
     "metadata": {},
     "output_type": "execute_result"
    }
   ],
   "source": [
    "emp_eng['Select the courses applicable for you [Artificial Intelligence (AI)]'].value_counts()"
   ]
  },
  {
   "cell_type": "code",
   "execution_count": 317,
   "metadata": {},
   "outputs": [
    {
     "data": {
      "text/plain": [
       "New Technology       77\n",
       "Skill Enhancement    34\n",
       "Different Project    15\n",
       "Management Role      13\n",
       "BA Role               6\n",
       "Name: What are your expectations with Project?, dtype: int64"
      ]
     },
     "execution_count": 317,
     "metadata": {},
     "output_type": "execute_result"
    }
   ],
   "source": [
    "emp_eng['What are your expectations with Project?'].value_counts()"
   ]
  },
  {
   "cell_type": "code",
   "execution_count": 318,
   "metadata": {},
   "outputs": [
    {
     "data": {
      "text/plain": [
       "3 - 5      48\n",
       "Above 8    45\n",
       "0 - 2      28\n",
       "6 - 8      24\n",
       "Name: Total years of relevant work experience, dtype: int64"
      ]
     },
     "execution_count": 318,
     "metadata": {},
     "output_type": "execute_result"
    }
   ],
   "source": [
    "emp_eng['Total years of relevant work experience'].value_counts()"
   ]
  },
  {
   "cell_type": "code",
   "execution_count": 319,
   "metadata": {},
   "outputs": [],
   "source": [
    "for i in range(0,len(emp_eng)):\n",
    "    if emp_eng['Total years of relevant work experience'][i] == '0 - 2':\n",
    "        emp_eng['Total years of relevant work experience'][i] = 1 \n",
    "    if emp_eng['Total years of relevant work experience'][i] == '3 - 5':\n",
    "        emp_eng['Total years of relevant work experience'][i] = 2 \n",
    "    if emp_eng['Total years of relevant work experience'][i] == '6 - 8':\n",
    "        emp_eng['Total years of relevant work experience'][i] = 3\n",
    "    if emp_eng['Total years of relevant work experience'][i] == 'Above 8':\n",
    "        emp_eng['Total years of relevant work experience'][i] = 4 "
   ]
  },
  {
   "cell_type": "code",
   "execution_count": 320,
   "metadata": {},
   "outputs": [],
   "source": [
    "emp_eng['Total years of relevant work experience'] = emp_eng['Total years of relevant work experience'].astype(object)\n",
    "emp_eng['How engaging is current project role/opportunity?'] = emp_eng['How engaging is current project role/opportunity?'].astype(object)"
   ]
  },
  {
   "cell_type": "code",
   "execution_count": 321,
   "metadata": {},
   "outputs": [
    {
     "data": {
      "text/plain": [
       "array(['Yes', 'No'], dtype=object)"
      ]
     },
     "execution_count": 321,
     "metadata": {},
     "output_type": "execute_result"
    }
   ],
   "source": [
    "emp_eng['Select the courses applicable for you [Python/PHP]'].unique()"
   ]
  },
  {
   "cell_type": "code",
   "execution_count": 476,
   "metadata": {},
   "outputs": [],
   "source": [
    "Py = emp_eng['Reasons for courses which have been scored below 75% [Python/PHP]'].str.split(',',expand=True).add_prefix('remove_Py').fillna(0)\n",
    "JS = emp_eng['Reasons for courses which have been scored below 75% [React.js/Angular.js]'].str.split(',',expand=True).add_prefix('remove_JS').fillna(0)\n",
    "DB = emp_eng['Reasons for courses which have been scored below 75% [DATABASE]'].str.split(',',expand=True).add_prefix('remove_DB').fillna(0)\n",
    "AZ = emp_eng['Reasons for courses which have been scored below 75% [Azure]'].str.split(',',expand=True).add_prefix('remove_AZ').fillna(0)\n",
    "AI = emp_eng['Reasons for courses which have been scored below 75% [Artificial Intelligence]'].str.split(',',expand=True).add_prefix('remove_AI').fillna(0)\n",
    "Devops = emp_eng['Reasons for courses which have been scored below 75% [Devops]'].str.split(',',expand=True).add_prefix('remove_Devops').fillna(0)\n",
    "scrum = emp_eng['Reasons for courses which have been scored below 75% [Scrum Master]'].str.split(',',expand=True).add_prefix('remove_scrum').fillna(0)"
   ]
  },
  {
   "cell_type": "markdown",
   "metadata": {},
   "source": [
    "REMEMBER TO CHANGE emp_eng11 to emp_eng"
   ]
  },
  {
   "cell_type": "code",
   "execution_count": 477,
   "metadata": {},
   "outputs": [],
   "source": [
    "emp_eng2 = pd.concat([emp_eng,Py,JS,DB,AZ,AI,Devops,scrum],axis=1)"
   ]
  },
  {
   "cell_type": "code",
   "execution_count": 478,
   "metadata": {},
   "outputs": [],
   "source": [
    "emp_eng2[['remove_Py0', 'remove_Py1' , 'remove_Py2', 'remove_JS0', 'remove_JS1' , \n",
    "           'remove_JS2' , 'remove_DB0', 'remove_DB1', 'remove_DB2', 'remove_DB3', \n",
    "           'remove_AZ0', 'remove_AZ1', 'remove_AI0', 'remove_AI1', 'remove_AI2', 'remove_Devops0', \n",
    "           'remove_Devops1', 'remove_Devops2', 'remove_scrum0', 'remove_scrum1', 'remove_scrum2']] = emp_eng2[['remove_Py0' , 'remove_Py1' , 'remove_Py2', 'remove_JS0', 'remove_JS1' , \n",
    "           'remove_JS2' , 'remove_DB0', 'remove_DB1', 'remove_DB2', 'remove_DB3', \n",
    "           'remove_AZ0', 'remove_AZ1', 'remove_AI0', 'remove_AI1', 'remove_AI2', 'remove_Devops0', \n",
    "           'remove_Devops1', 'remove_Devops2', 'remove_scrum0', 'remove_scrum1', 'remove_scrum2']].replace(['Course is tough','Learning material only for expert levels',\n",
    "          'Course content is not engaging enough a is monotonous','Course doesn\\'t have project level implementation',\n",
    "         'Hands on is not present','Not able to give enough time for reading material','Not Applicable'],\n",
    "         [1,0.5,1,1,1,0.5,0])\n",
    "\n",
    "emp_eng2[['remove_Py0', 'remove_Py1' , 'remove_Py2', 'remove_JS0', 'remove_JS1' , \n",
    "           'remove_JS2' , 'remove_DB0', 'remove_DB1', 'remove_DB2', 'remove_DB3', \n",
    "           'remove_AZ0', 'remove_AZ1', 'remove_AI0', 'remove_AI1', 'remove_AI2', 'remove_Devops0', \n",
    "           'remove_Devops1', 'remove_Devops2', 'remove_scrum0', 'remove_scrum1', 'remove_scrum2']] = emp_eng2[['remove_Py0' , 'remove_Py1' , 'remove_Py2', 'remove_JS0', 'remove_JS1' , \n",
    "           'remove_JS2' , 'remove_DB0', 'remove_DB1', 'remove_DB2', 'remove_DB3', \n",
    "           'remove_AZ0', 'remove_AZ1', 'remove_AI0', 'remove_AI1', 'remove_AI2', 'remove_Devops0', \n",
    "           'remove_Devops1', 'remove_Devops2', 'remove_scrum0', 'remove_scrum1', 'remove_scrum2']].replace([' Course is tough',' Learning material only for expert levels',\n",
    "          ' Course content is not engaging enough a is monotonous',' Course doesn\\'t have project level implementation',\n",
    "         ' Hands on is not present',' Not able to give enough time for reading material',' Not Applicable'],\n",
    "         [1,0.5,1,1,1,0.5,0])"
   ]
  },
  {
   "cell_type": "code",
   "execution_count": 481,
   "metadata": {},
   "outputs": [],
   "source": [
    "emp_eng2['remove_Py2'] = emp_eng2.iloc[:,-21:-18].sum(axis=1)\n",
    "emp_eng2['remove_JS2'] = emp_eng2.iloc[:,-18:-15].sum(axis=1)\n",
    "emp_eng2['remove_DB3'] = emp_eng2.iloc[:,-15:-11].sum(axis=1)\n",
    "emp_eng2['remove_AZ1'] = emp_eng2.iloc[:,-11:-9].sum(axis=1)\n",
    "emp_eng2['remove_AI2'] = emp_eng2.iloc[:,-9:-6].sum(axis=1)\n",
    "emp_eng2['remove_Devops2'] = emp_eng2.iloc[:,-6:-3].sum(axis=1)\n",
    "emp_eng2['remove_scrum2'] = emp_eng2.iloc[:,-3:].sum(axis=1)"
   ]
  },
  {
   "cell_type": "code",
   "execution_count": 482,
   "metadata": {},
   "outputs": [],
   "source": [
    "Py1 = emp_eng['Feedback for high scoring course [Python/PHP]'].str.split(',',expand=True).add_prefix('remove_Py1').fillna(0)\n",
    "JS1 = emp_eng['Feedback for high scoring course [React.js/Angular.js]'].str.split(',',expand=True).add_prefix('remove_JS1').fillna(0)\n",
    "DB1 = emp_eng['Feedback for high scoring course [DATABASE]'].str.split(',',expand=True).add_prefix('remove_DB1').fillna(0)\n",
    "AZ1 = emp_eng['Feedback for high scoring course [Azure]'].str.split(',',expand=True).add_prefix('remove_AZ1').fillna(0)\n",
    "AI1 = emp_eng['Feedback for high scoring course [Artificial Intelligence]'].str.split(',',expand=True).add_prefix('remove_AI1').fillna(0)\n",
    "Devops1 = emp_eng['Feedback for high scoring course [Devops]'].str.split(',',expand=True).add_prefix('remove_Devops1').fillna(0)\n",
    "scrum1 = emp_eng['Feedback for high scoring course [Scrum Master]'].str.split(',',expand=True).add_prefix('remove_scrum1').fillna(0)"
   ]
  },
  {
   "cell_type": "code",
   "execution_count": 483,
   "metadata": {},
   "outputs": [],
   "source": [
    "emp_eng3 = pd.concat([emp_eng2,Py1,JS1,DB1,AZ1,AI1,Devops1,scrum1],axis=1)"
   ]
  },
  {
   "cell_type": "code",
   "execution_count": 484,
   "metadata": {},
   "outputs": [],
   "source": [
    "emp_eng3[['remove_Py10', 'remove_Py11' , 'remove_Py12', 'remove_JS10', 'remove_JS11' , \n",
    "           'remove_JS12' , 'remove_JS13','remove_DB10', 'remove_DB11', 'remove_DB12', 'remove_DB13', \n",
    "           'remove_AZ10', 'remove_AZ11', 'remove_AZ12', 'remove_AI10', 'remove_Devops10', \n",
    "           'remove_Devops11', 'remove_Devops12', 'remove_Devops13', 'remove_scrum10', 'remove_scrum11']] = emp_eng3[['remove_Py10', 'remove_Py11' , 'remove_Py12', 'remove_JS10', 'remove_JS11' , \n",
    "           'remove_JS12' , 'remove_JS13','remove_DB10', 'remove_DB11', 'remove_DB12', 'remove_DB13', \n",
    "           'remove_AZ10', 'remove_AZ11', 'remove_AZ12', 'remove_AI10', 'remove_Devops10', \n",
    "           'remove_Devops11', 'remove_Devops12', 'remove_Devops13', 'remove_scrum10', 'remove_scrum11']].replace([' Learning material is good',' It is relevant to current project experience',\n",
    "          ' Hands on provided is good',' Engaging course',' Not Applicable'],\n",
    "         [1,1,1,1,0])\n",
    "\n",
    "emp_eng3[['remove_Py10', 'remove_Py11' , 'remove_Py12', 'remove_JS10', 'remove_JS11' , \n",
    "           'remove_JS12' , 'remove_JS13','remove_DB10', 'remove_DB11', 'remove_DB12', 'remove_DB13', \n",
    "           'remove_AZ10', 'remove_AZ11', 'remove_AZ12', 'remove_AI10', 'remove_Devops10', \n",
    "           'remove_Devops11', 'remove_Devops12', 'remove_Devops13', 'remove_scrum10', 'remove_scrum11']] = emp_eng3[['remove_Py10', 'remove_Py11' , 'remove_Py12', 'remove_JS10', 'remove_JS11' , \n",
    "           'remove_JS12' , 'remove_JS13','remove_DB10', 'remove_DB11', 'remove_DB12', 'remove_DB13', \n",
    "           'remove_AZ10', 'remove_AZ11', 'remove_AZ12', 'remove_AI10', 'remove_Devops10', \n",
    "           'remove_Devops11', 'remove_Devops12', 'remove_Devops13', 'remove_scrum10', 'remove_scrum11']].replace(['Learning material is good','It is relevant to current project experience',\n",
    "          'Hands on provided is good','Engaging course','Not Applicable'],\n",
    "         [1,1,1,1,0])"
   ]
  },
  {
   "cell_type": "code",
   "execution_count": 485,
   "metadata": {},
   "outputs": [],
   "source": [
    "emp_eng3['remove_Py12'] = emp_eng3.iloc[:,-21:-18].sum(axis=1)\n",
    "emp_eng3['remove_JS13'] = emp_eng3.iloc[:,-18:-14].sum(axis=1)\n",
    "emp_eng3['remove_DB13'] = emp_eng3.iloc[:,-14:-10].sum(axis=1)\n",
    "emp_eng3['remove_AZ12'] = emp_eng3.iloc[:,-10:-7].sum(axis=1)\n",
    "emp_eng3['remove_AI10'] = emp_eng3.iloc[:,-7:-6].sum(axis=1)\n",
    "emp_eng3['remove_Devops13'] = emp_eng3.iloc[:,-6:-2].sum(axis=1)\n",
    "emp_eng3['remove_scrum11'] = emp_eng3.iloc[:,-2:].sum(axis=1)"
   ]
  },
  {
   "cell_type": "code",
   "execution_count": 486,
   "metadata": {},
   "outputs": [],
   "source": [
    "emp_eng3['lex_interest'] = emp_eng3['List of Lex courses interested in apart from ones mentioned above'].str.split(',',expand=True)[0]"
   ]
  },
  {
   "cell_type": "code",
   "execution_count": 487,
   "metadata": {},
   "outputs": [
    {
     "data": {
      "text/plain": [
       "0          Pega\n",
       "1             R\n",
       "2    Servicenow\n",
       "3    servicenow\n",
       "4    Angular Js\n",
       "Name: lex_interest, dtype: object"
      ]
     },
     "execution_count": 487,
     "metadata": {},
     "output_type": "execute_result"
    }
   ],
   "source": [
    "emp_eng3['lex_interest'].head()"
   ]
  },
  {
   "cell_type": "code",
   "execution_count": 488,
   "metadata": {},
   "outputs": [],
   "source": [
    "emp_eng3['external cert'] = emp_eng3['If above answer is yes then list the certification/course separated by comma, else mention NA'].str.split(',',expand=True)[0]"
   ]
  },
  {
   "cell_type": "code",
   "execution_count": 489,
   "metadata": {},
   "outputs": [],
   "source": [
    "emp_eng3.loc[emp_eng3['Reason for taking the course outside'].str.contains('wanted to get external certificate',case= False),'Reason for taking the course outside'] = 'Wanted to get external certification'"
   ]
  },
  {
   "cell_type": "code",
   "execution_count": 492,
   "metadata": {},
   "outputs": [],
   "source": [
    "emp_eng3.to_excel('employee_engagement.xlsx')"
   ]
  },
  {
   "cell_type": "code",
   "execution_count": 493,
   "metadata": {},
   "outputs": [],
   "source": [
    "emp_eng111 = emp_eng3.copy()"
   ]
  },
  {
   "cell_type": "code",
   "execution_count": 506,
   "metadata": {},
   "outputs": [
    {
     "name": "stdout",
     "output_type": "stream",
     "text": [
      "4\n",
      "4\n",
      "4\n",
      "2\n",
      "4\n",
      "4\n",
      "4\n",
      "4\n",
      "2\n",
      "2\n",
      "4\n",
      "3\n",
      "4\n",
      "4\n",
      "2\n",
      "2\n",
      "2\n",
      "2\n",
      "2\n",
      "4\n",
      "2\n",
      "2\n",
      "4\n",
      "3\n",
      "1\n"
     ]
    }
   ],
   "source": [
    "for i in range(0,len(emp_eng)):\n",
    "    if emp_eng111['Any certification/courses done outside Infosys in last 3 years?'][i] == 'Yes': \n",
    "        print(emp_eng111['Total years of relevant work experience'][i])"
   ]
  },
  {
   "cell_type": "code",
   "execution_count": null,
   "metadata": {},
   "outputs": [],
   "source": []
  }
 ],
 "metadata": {
  "kernelspec": {
   "display_name": "Python 3",
   "language": "python",
   "name": "python3"
  },
  "language_info": {
   "codemirror_mode": {
    "name": "ipython",
    "version": 3
   },
   "file_extension": ".py",
   "mimetype": "text/x-python",
   "name": "python",
   "nbconvert_exporter": "python",
   "pygments_lexer": "ipython3",
   "version": "3.6.5"
  }
 },
 "nbformat": 4,
 "nbformat_minor": 2
}
