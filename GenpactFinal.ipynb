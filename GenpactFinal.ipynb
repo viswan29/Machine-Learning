{
 "cells": [
  {
   "cell_type": "code",
   "execution_count": 1,
   "metadata": {},
   "outputs": [],
   "source": [
    "import os\n",
    "os.chdir('C:/Users/viswanath/Downloads')"
   ]
  },
  {
   "cell_type": "code",
   "execution_count": 2,
   "metadata": {},
   "outputs": [],
   "source": [
    "import numpy as np\n",
    "import pandas as pd\n",
    "import matplotlib.pyplot as plt\n",
    "import warnings\n",
    "warnings.filterwarnings('ignore')"
   ]
  },
  {
   "cell_type": "code",
   "execution_count": 133,
   "metadata": {},
   "outputs": [],
   "source": [
    "df_train = pd.read_csv('train.csv')\n",
    "df_fci = pd.read_csv('fulfilment_center_info.csv')\n",
    "df_meals = pd.read_csv('meal_info.csv')"
   ]
  },
  {
   "cell_type": "code",
   "execution_count": 134,
   "metadata": {},
   "outputs": [],
   "source": [
    "train = pd.merge(df_train,df_fci,on='center_id')\n",
    "train = pd.merge(train,df_meals,on='meal_id')"
   ]
  },
  {
   "cell_type": "code",
   "execution_count": 135,
   "metadata": {},
   "outputs": [],
   "source": [
    "cols = ['id', 'week', 'center_id', 'meal_id', 'checkout_price', 'base_price',\n",
    "       'emailer_for_promotion', 'homepage_featured', 'city_code',\n",
    "       'region_code', 'center_type', 'op_area', 'category', 'cuisine']"
   ]
  },
  {
   "cell_type": "code",
   "execution_count": 136,
   "metadata": {},
   "outputs": [
    {
     "data": {
      "text/plain": [
       "(456548, 247)"
      ]
     },
     "execution_count": 136,
     "metadata": {},
     "output_type": "execute_result"
    }
   ],
   "source": [
    "train['emailer_for_promotion'] = train['emailer_for_promotion'].astype(object)\n",
    "train['homepage_featured'] = train['homepage_featured'].astype(object)\n",
    "train['city_code'] = train['city_code'].astype(object)\n",
    "train['region_code'] = train['region_code'].astype(object)\n",
    "train['center_type'] = train['center_type'].astype(object)\n",
    "train['op_area'] = train['op_area'].astype(object)\n",
    "train = pd.get_dummies(train,columns=['emailer_for_promotion','homepage_featured','city_code','region_code','center_type','op_area','category','cuisine'])\n",
    "train['center_id'] = train['center_id'].astype(object)\n",
    "train['meal_id'] = train['meal_id'].astype(object)\n",
    "train = pd.get_dummies(train,columns=['center_id','meal_id'])\n",
    "train.shape"
   ]
  },
  {
   "cell_type": "code",
   "execution_count": 137,
   "metadata": {},
   "outputs": [],
   "source": [
    "X = train.drop('num_orders',1)\n",
    "y = train['num_orders']"
   ]
  },
  {
   "cell_type": "code",
   "execution_count": 138,
   "metadata": {},
   "outputs": [
    {
     "data": {
      "text/plain": [
       "(32573, 14)"
      ]
     },
     "execution_count": 138,
     "metadata": {},
     "output_type": "execute_result"
    }
   ],
   "source": [
    "df_test = pd.read_csv('test_QoiMO9B.csv')\n",
    "test = pd.merge(df_test,df_fci,on='center_id')\n",
    "test = pd.merge(test,df_meals,on='meal_id')\n",
    "test.shape"
   ]
  },
  {
   "cell_type": "code",
   "execution_count": 139,
   "metadata": {},
   "outputs": [
    {
     "data": {
      "text/plain": [
       "(32573, 246)"
      ]
     },
     "execution_count": 139,
     "metadata": {},
     "output_type": "execute_result"
    }
   ],
   "source": [
    "test['emailer_for_promotion'] = test['emailer_for_promotion'].astype(object)\n",
    "test['homepage_featured'] = test['homepage_featured'].astype(object)\n",
    "test['city_code'] = test['city_code'].astype(object)\n",
    "test['region_code'] = test['region_code'].astype(object)\n",
    "test['center_type'] = test['center_type'].astype(object)\n",
    "test['op_area'] = test['op_area'].astype(object)\n",
    "test = pd.get_dummies(test,columns=['emailer_for_promotion','homepage_featured','city_code','region_code','center_type','op_area','category','cuisine'])\n",
    "test['center_id'] = test['center_id'].astype(object)\n",
    "test['meal_id'] = test['meal_id'].astype(object)\n",
    "test = pd.get_dummies(test,columns=['center_id','meal_id'])\n",
    "test.shape"
   ]
  },
  {
   "cell_type": "code",
   "execution_count": 140,
   "metadata": {},
   "outputs": [],
   "source": [
    "from sklearn.ensemble import RandomForestRegressor\n",
    "from sklearn.model_selection import KFold"
   ]
  },
  {
   "cell_type": "code",
   "execution_count": 141,
   "metadata": {},
   "outputs": [
    {
     "name": "stdout",
     "output_type": "stream",
     "text": [
      "\n",
      "1 of kfold 5\n",
      "accuracy score: 0.5003456811570232\n",
      "\n",
      "2 of kfold 5\n",
      "accuracy score: 0.5027468828895985\n",
      "\n",
      "3 of kfold 5\n",
      "accuracy score: 0.5034414440787192\n",
      "\n",
      "4 of kfold 5\n",
      "accuracy score: 0.5029990706093211\n",
      "\n",
      "5 of kfold 5\n",
      "accuracy score: 0.502462334450174\n"
     ]
    }
   ],
   "source": [
    "def rmsle(y, y0):\n",
    "    return np.sqrt(np.mean(np.square(np.log1p(y) - np.log1p(y0))))\n",
    "\n",
    "i = 1\n",
    "kf = KFold(n_splits=5,random_state=1,shuffle=True)\n",
    "for train_index, test_index in kf.split(X,y):\n",
    "    print('\\n{} of kfold {}'.format(i,kf.n_splits))\n",
    "    xtr,xvl = X.loc[train_index], X.loc[test_index]\n",
    "    ytr,yvl = y[train_index], y[test_index]\n",
    "    \n",
    "    model = RandomForestRegressor(random_state=1)\n",
    "    model.fit(xtr,ytr)\n",
    "    pred_test = model.predict(xvl)\n",
    "    score = rmsle(yvl,pred_test)\n",
    "    print('accuracy score:', score)\n",
    "    i += 1 \n",
    "pred_test = model.predict(test)"
   ]
  },
  {
   "cell_type": "code",
   "execution_count": 142,
   "metadata": {},
   "outputs": [],
   "source": [
    "sub = pd.read_csv('sample_submission_hSlSoT6.csv')\n",
    "sub['id'] = test['id']\n",
    "sub['num_orders'] = pred_test\n",
    "sub['num_orders'] = sub['num_orders'].astype(int)\n",
    "pd.DataFrame(sub, columns=['id','num_orders']).to_csv('last_attempt_RF.csv')"
   ]
  },
  {
   "cell_type": "code",
   "execution_count": null,
   "metadata": {},
   "outputs": [],
   "source": []
  }
 ],
 "metadata": {
  "kernelspec": {
   "display_name": "Python 3",
   "language": "python",
   "name": "python3"
  },
  "language_info": {
   "codemirror_mode": {
    "name": "ipython",
    "version": 3
   },
   "file_extension": ".py",
   "mimetype": "text/x-python",
   "name": "python",
   "nbconvert_exporter": "python",
   "pygments_lexer": "ipython3",
   "version": "3.6.5"
  }
 },
 "nbformat": 4,
 "nbformat_minor": 2
}
